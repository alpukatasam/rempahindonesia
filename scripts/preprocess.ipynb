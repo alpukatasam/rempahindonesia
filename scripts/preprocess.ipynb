{
 "cells": [
  {
   "cell_type": "markdown",
   "metadata": {},
   "source": [
    "# Cell 1: Imports & Config"
   ]
  },
  {
   "cell_type": "code",
   "execution_count": 1,
   "metadata": {},
   "outputs": [
    {
     "name": "stdout",
     "output_type": "stream",
     "text": [
      "Config siap. RAW_DIR = ../data/Indonesian Spices Dataset\n"
     ]
    }
   ],
   "source": [
    "import os\n",
    "import glob\n",
    "import shutil\n",
    "from PIL import Image\n",
    "import tensorflow as tf\n",
    "from sklearn.model_selection import train_test_split\n",
    "\n",
    "# Direktori\n",
    "RAW_DIR   = \"../data/Indonesian Spices Dataset\"\n",
    "SPLIT_DIR = \"../data_split\"\n",
    "RATIOS    = (0.7, 0.2, 0.1)\n",
    "\n",
    "valid_exts = (\".jpg\", \".jpeg\", \".png\", \".bmp\", \".gif\")\n",
    "\n",
    "# Buat folder split\n",
    "for subset in [\"train\",\"val\",\"test\"]:\n",
    "    os.makedirs(os.path.join(SPLIT_DIR, subset), exist_ok=True)\n",
    "\n",
    "print(\"Config siap. RAW_DIR =\", RAW_DIR)\n"
   ]
  },
  {
   "cell_type": "markdown",
   "metadata": {},
   "source": [
    "# Cell 2: Fungsi Bersihkan & Cek Gambar"
   ]
  },
  {
   "cell_type": "code",
   "execution_count": 2,
   "metadata": {},
   "outputs": [
    {
     "name": "stdout",
     "output_type": "stream",
     "text": [
      "Dihapus dari RAW (non-gambar/korup): 0 file\n"
     ]
    }
   ],
   "source": [
    "def is_image_valid(path):\n",
    "    \"\"\"Cek ekstensi dan korupsi dengan PIL.\"\"\"\n",
    "    if not path.lower().endswith(valid_exts):\n",
    "        return False\n",
    "    try:\n",
    "        Image.open(path).verify()\n",
    "        return True\n",
    "    except:\n",
    "        return False\n",
    "\n",
    "def clean_folder(folder):\n",
    "    \"\"\"Hapus file non-gambar dan gambar korup.\"\"\"\n",
    "    removed = []\n",
    "    for cls in os.listdir(folder):\n",
    "        cls_dir = os.path.join(folder, cls)\n",
    "        for fname in os.listdir(cls_dir):\n",
    "            path = os.path.join(cls_dir, fname)\n",
    "            if not is_image_valid(path):\n",
    "                removed.append(path)\n",
    "                os.remove(path)\n",
    "    return removed\n",
    "\n",
    "# Bersihkan RAW_DIR sebelum split\n",
    "bad_raw = clean_folder(RAW_DIR)\n",
    "print(f\"Dihapus dari RAW (non-gambar/korup): {len(bad_raw)} file\")\n"
   ]
  },
  {
   "cell_type": "markdown",
   "metadata": {},
   "source": [
    "# Cell 3: Split Data"
   ]
  },
  {
   "cell_type": "code",
   "execution_count": 3,
   "metadata": {},
   "outputs": [
    {
     "name": "stdout",
     "output_type": "stream",
     "text": [
      "📦 Data split selesai\n"
     ]
    }
   ],
   "source": [
    "for cls in os.listdir(RAW_DIR):\n",
    "    src = os.path.join(RAW_DIR, cls)\n",
    "    if not os.path.isdir(src): continue\n",
    "\n",
    "    files = glob.glob(os.path.join(src, \"*\"))\n",
    "    train_f, temp = train_test_split(files, test_size=1-RATIOS[0], random_state=42)\n",
    "    val_f,  test_f = train_test_split(temp, test_size=RATIOS[2]/(RATIOS[1]+RATIOS[2]), random_state=42)\n",
    "\n",
    "    for subset, flist in zip([\"train\",\"val\",\"test\"], [train_f, val_f, test_f]):\n",
    "        dst_cls = os.path.join(SPLIT_DIR, subset, cls)\n",
    "        os.makedirs(dst_cls, exist_ok=True)\n",
    "        for f in flist:\n",
    "            shutil.copy(f, dst_cls)\n",
    "\n",
    "print(\"📦 Data split selesai\")\n"
   ]
  },
  {
   "cell_type": "markdown",
   "metadata": {},
   "source": [
    "# Cell 4: Pembersihan & Validasi Setelah Split"
   ]
  },
  {
   "cell_type": "code",
   "execution_count": 5,
   "metadata": {},
   "outputs": [
    {
     "name": "stdout",
     "output_type": "stream",
     "text": [
      "Dihapus setelah split (non-gambar/korup): 0 file\n"
     ]
    }
   ],
   "source": [
    "removed_after = []\n",
    "for subset in [\"train\",\"val\",\"test\"]:\n",
    "    folder = os.path.join(SPLIT_DIR, subset)\n",
    "    removed_after += clean_folder(folder)\n",
    "\n",
    "print(f\"Dihapus setelah split (non-gambar/korup): {len(removed_after)} file\")\n"
   ]
  },
  {
   "cell_type": "markdown",
   "metadata": {},
   "source": [
    "# Cell 5: Ringkasan Hasil Split"
   ]
  },
  {
   "cell_type": "code",
   "execution_count": 6,
   "metadata": {},
   "outputs": [
    {
     "name": "stdout",
     "output_type": "stream",
     "text": [
      " • train: 4526 gambar\n",
      " • val: 1302 gambar\n",
      " • test: 682 gambar\n",
      "✅ Preprocessing lengkap: split + cleaning + validasi\n"
     ]
    }
   ],
   "source": [
    "for subset in [\"train\",\"val\",\"test\"]:\n",
    "    total = sum(len(files) for _,_,files in os.walk(os.path.join(SPLIT_DIR, subset)))\n",
    "    print(f\" • {subset}: {total} gambar\")\n",
    "\n",
    "print(\"✅ Preprocessing lengkap: split + cleaning + validasi\")\n"
   ]
  }
 ],
 "metadata": {
  "kernelspec": {
   "display_name": "venv",
   "language": "python",
   "name": "python3"
  },
  "language_info": {
   "codemirror_mode": {
    "name": "ipython",
    "version": 3
   },
   "file_extension": ".py",
   "mimetype": "text/x-python",
   "name": "python",
   "nbconvert_exporter": "python",
   "pygments_lexer": "ipython3",
   "version": "3.11.3"
  }
 },
 "nbformat": 4,
 "nbformat_minor": 2
}
